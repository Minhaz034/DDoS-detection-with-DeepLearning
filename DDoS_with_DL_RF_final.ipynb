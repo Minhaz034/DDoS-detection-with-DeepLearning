{
  "nbformat": 4,
  "nbformat_minor": 0,
  "metadata": {
    "colab": {
      "name": "DDoS_with_DL_RF_final.ipynb",
      "provenance": [],
      "collapsed_sections": []
    },
    "kernelspec": {
      "name": "python3",
      "display_name": "Python 3"
    },
    "accelerator": "GPU"
  },
  "cells": [
    {
      "cell_type": "markdown",
      "metadata": {
        "id": "Ot85lySvydm8"
      },
      "source": [
        "# DDoS Attack detection using Deep Learning"
      ]
    },
    {
      "cell_type": "markdown",
      "metadata": {
        "id": "KXPYxQeCyWs1"
      },
      "source": [
        "**Mount CICIDS2017 dataset from google drive**"
      ]
    },
    {
      "cell_type": "code",
      "metadata": {
        "id": "hoO73r6T8sjN",
        "colab": {
          "base_uri": "https://localhost:8080/"
        },
        "outputId": "a688a7b4-bc6d-47f0-86e5-afb27fe7e790"
      },
      "source": [
        "from google.colab import drive\n",
        "drive.mount('/content/drive')"
      ],
      "execution_count": 26,
      "outputs": [
        {
          "output_type": "stream",
          "text": [
            "Drive already mounted at /content/drive; to attempt to forcibly remount, call drive.mount(\"/content/drive\", force_remount=True).\n"
          ],
          "name": "stdout"
        }
      ]
    },
    {
      "cell_type": "markdown",
      "metadata": {
        "id": "nhaY5ES1B2dR"
      },
      "source": [
        "Loading the CICIDS2017 dataset (Wednesday working hours)"
      ]
    },
    {
      "cell_type": "markdown",
      "metadata": {
        "id": "KcKpysl7oiJE"
      },
      "source": [
        "**Import Numpy ,Pandas and Load dataset**"
      ]
    },
    {
      "cell_type": "code",
      "metadata": {
        "id": "yEian7Jp80Ew"
      },
      "source": [
        "import pandas as pd\n",
        "import numpy as np\n",
        "path = \"/content/drive/My Drive/data/Wednesday-workingHours.pcap_ISCX.csv\"\n",
        "df4 = pd.read_csv(path)\n",
        "\n"
      ],
      "execution_count": 27,
      "outputs": []
    },
    {
      "cell_type": "markdown",
      "metadata": {
        "id": "auqDpOHnpJtg"
      },
      "source": [
        "**Having a look at the dataset stored in dataframe df4**"
      ]
    },
    {
      "cell_type": "code",
      "metadata": {
        "colab": {
          "base_uri": "https://localhost:8080/",
          "height": 266
        },
        "id": "0wqLXgQYpgS4",
        "outputId": "775777b9-d46d-497c-9139-7a9c7da9c21c"
      },
      "source": [
        "df4.head()"
      ],
      "execution_count": 28,
      "outputs": [
        {
          "output_type": "execute_result",
          "data": {
            "text/html": [
              "<div>\n",
              "<style scoped>\n",
              "    .dataframe tbody tr th:only-of-type {\n",
              "        vertical-align: middle;\n",
              "    }\n",
              "\n",
              "    .dataframe tbody tr th {\n",
              "        vertical-align: top;\n",
              "    }\n",
              "\n",
              "    .dataframe thead th {\n",
              "        text-align: right;\n",
              "    }\n",
              "</style>\n",
              "<table border=\"1\" class=\"dataframe\">\n",
              "  <thead>\n",
              "    <tr style=\"text-align: right;\">\n",
              "      <th></th>\n",
              "      <th>Destination Port</th>\n",
              "      <th>Flow Duration</th>\n",
              "      <th>Total Fwd Packets</th>\n",
              "      <th>Total Backward Packets</th>\n",
              "      <th>Total Length of Fwd Packets</th>\n",
              "      <th>Total Length of Bwd Packets</th>\n",
              "      <th>Fwd Packet Length Max</th>\n",
              "      <th>Fwd Packet Length Min</th>\n",
              "      <th>Fwd Packet Length Mean</th>\n",
              "      <th>Fwd Packet Length Std</th>\n",
              "      <th>Bwd Packet Length Max</th>\n",
              "      <th>Bwd Packet Length Min</th>\n",
              "      <th>Bwd Packet Length Mean</th>\n",
              "      <th>Bwd Packet Length Std</th>\n",
              "      <th>Flow Bytes/s</th>\n",
              "      <th>Flow Packets/s</th>\n",
              "      <th>Flow IAT Mean</th>\n",
              "      <th>Flow IAT Std</th>\n",
              "      <th>Flow IAT Max</th>\n",
              "      <th>Flow IAT Min</th>\n",
              "      <th>Fwd IAT Total</th>\n",
              "      <th>Fwd IAT Mean</th>\n",
              "      <th>Fwd IAT Std</th>\n",
              "      <th>Fwd IAT Max</th>\n",
              "      <th>Fwd IAT Min</th>\n",
              "      <th>Bwd IAT Total</th>\n",
              "      <th>Bwd IAT Mean</th>\n",
              "      <th>Bwd IAT Std</th>\n",
              "      <th>Bwd IAT Max</th>\n",
              "      <th>Bwd IAT Min</th>\n",
              "      <th>Fwd PSH Flags</th>\n",
              "      <th>Bwd PSH Flags</th>\n",
              "      <th>Fwd URG Flags</th>\n",
              "      <th>Bwd URG Flags</th>\n",
              "      <th>Fwd Header Length</th>\n",
              "      <th>Bwd Header Length</th>\n",
              "      <th>Fwd Packets/s</th>\n",
              "      <th>Bwd Packets/s</th>\n",
              "      <th>Min Packet Length</th>\n",
              "      <th>Max Packet Length</th>\n",
              "      <th>Packet Length Mean</th>\n",
              "      <th>Packet Length Std</th>\n",
              "      <th>Packet Length Variance</th>\n",
              "      <th>FIN Flag Count</th>\n",
              "      <th>SYN Flag Count</th>\n",
              "      <th>RST Flag Count</th>\n",
              "      <th>PSH Flag Count</th>\n",
              "      <th>ACK Flag Count</th>\n",
              "      <th>URG Flag Count</th>\n",
              "      <th>CWE Flag Count</th>\n",
              "      <th>ECE Flag Count</th>\n",
              "      <th>Down/Up Ratio</th>\n",
              "      <th>Average Packet Size</th>\n",
              "      <th>Avg Fwd Segment Size</th>\n",
              "      <th>Avg Bwd Segment Size</th>\n",
              "      <th>Fwd Header Length.1</th>\n",
              "      <th>Fwd Avg Bytes/Bulk</th>\n",
              "      <th>Fwd Avg Packets/Bulk</th>\n",
              "      <th>Fwd Avg Bulk Rate</th>\n",
              "      <th>Bwd Avg Bytes/Bulk</th>\n",
              "      <th>Bwd Avg Packets/Bulk</th>\n",
              "      <th>Bwd Avg Bulk Rate</th>\n",
              "      <th>Subflow Fwd Packets</th>\n",
              "      <th>Subflow Fwd Bytes</th>\n",
              "      <th>Subflow Bwd Packets</th>\n",
              "      <th>Subflow Bwd Bytes</th>\n",
              "      <th>Init_Win_bytes_forward</th>\n",
              "      <th>Init_Win_bytes_backward</th>\n",
              "      <th>act_data_pkt_fwd</th>\n",
              "      <th>min_seg_size_forward</th>\n",
              "      <th>Active Mean</th>\n",
              "      <th>Active Std</th>\n",
              "      <th>Active Max</th>\n",
              "      <th>Active Min</th>\n",
              "      <th>Idle Mean</th>\n",
              "      <th>Idle Std</th>\n",
              "      <th>Idle Max</th>\n",
              "      <th>Idle Min</th>\n",
              "      <th>Label</th>\n",
              "    </tr>\n",
              "  </thead>\n",
              "  <tbody>\n",
              "    <tr>\n",
              "      <th>0</th>\n",
              "      <td>80</td>\n",
              "      <td>38308</td>\n",
              "      <td>1</td>\n",
              "      <td>1</td>\n",
              "      <td>6</td>\n",
              "      <td>6</td>\n",
              "      <td>6</td>\n",
              "      <td>6</td>\n",
              "      <td>6.000000</td>\n",
              "      <td>0.000000</td>\n",
              "      <td>6</td>\n",
              "      <td>6</td>\n",
              "      <td>6.000000</td>\n",
              "      <td>0.000000</td>\n",
              "      <td>3.132505e+02</td>\n",
              "      <td>52.208416</td>\n",
              "      <td>38308.000000</td>\n",
              "      <td>0.000000</td>\n",
              "      <td>38308</td>\n",
              "      <td>38308</td>\n",
              "      <td>0</td>\n",
              "      <td>0.000000</td>\n",
              "      <td>0.000000</td>\n",
              "      <td>0</td>\n",
              "      <td>0</td>\n",
              "      <td>0</td>\n",
              "      <td>0.000000</td>\n",
              "      <td>0.000000</td>\n",
              "      <td>0</td>\n",
              "      <td>0</td>\n",
              "      <td>0</td>\n",
              "      <td>0</td>\n",
              "      <td>0</td>\n",
              "      <td>0</td>\n",
              "      <td>20</td>\n",
              "      <td>20</td>\n",
              "      <td>26.104208</td>\n",
              "      <td>26.104208</td>\n",
              "      <td>6</td>\n",
              "      <td>6</td>\n",
              "      <td>6.000000</td>\n",
              "      <td>0.000000</td>\n",
              "      <td>0.000000</td>\n",
              "      <td>0</td>\n",
              "      <td>0</td>\n",
              "      <td>0</td>\n",
              "      <td>0</td>\n",
              "      <td>1</td>\n",
              "      <td>1</td>\n",
              "      <td>0</td>\n",
              "      <td>0</td>\n",
              "      <td>1</td>\n",
              "      <td>9.000000</td>\n",
              "      <td>6.000000</td>\n",
              "      <td>6.000000</td>\n",
              "      <td>20</td>\n",
              "      <td>0</td>\n",
              "      <td>0</td>\n",
              "      <td>0</td>\n",
              "      <td>0</td>\n",
              "      <td>0</td>\n",
              "      <td>0</td>\n",
              "      <td>1</td>\n",
              "      <td>6</td>\n",
              "      <td>1</td>\n",
              "      <td>6</td>\n",
              "      <td>255</td>\n",
              "      <td>946</td>\n",
              "      <td>0</td>\n",
              "      <td>20</td>\n",
              "      <td>0.0</td>\n",
              "      <td>0.0</td>\n",
              "      <td>0</td>\n",
              "      <td>0</td>\n",
              "      <td>0.0</td>\n",
              "      <td>0.0</td>\n",
              "      <td>0</td>\n",
              "      <td>0</td>\n",
              "      <td>BENIGN</td>\n",
              "    </tr>\n",
              "    <tr>\n",
              "      <th>1</th>\n",
              "      <td>389</td>\n",
              "      <td>479</td>\n",
              "      <td>11</td>\n",
              "      <td>5</td>\n",
              "      <td>172</td>\n",
              "      <td>326</td>\n",
              "      <td>79</td>\n",
              "      <td>0</td>\n",
              "      <td>15.636364</td>\n",
              "      <td>31.449238</td>\n",
              "      <td>163</td>\n",
              "      <td>0</td>\n",
              "      <td>65.200000</td>\n",
              "      <td>89.278777</td>\n",
              "      <td>1.039666e+06</td>\n",
              "      <td>33402.922760</td>\n",
              "      <td>31.933333</td>\n",
              "      <td>25.510409</td>\n",
              "      <td>73</td>\n",
              "      <td>0</td>\n",
              "      <td>479</td>\n",
              "      <td>47.900000</td>\n",
              "      <td>38.942836</td>\n",
              "      <td>109</td>\n",
              "      <td>1</td>\n",
              "      <td>401</td>\n",
              "      <td>100.250000</td>\n",
              "      <td>101.736178</td>\n",
              "      <td>237</td>\n",
              "      <td>3</td>\n",
              "      <td>0</td>\n",
              "      <td>0</td>\n",
              "      <td>0</td>\n",
              "      <td>0</td>\n",
              "      <td>368</td>\n",
              "      <td>176</td>\n",
              "      <td>22964.509390</td>\n",
              "      <td>10438.413360</td>\n",
              "      <td>0</td>\n",
              "      <td>163</td>\n",
              "      <td>29.294118</td>\n",
              "      <td>56.529599</td>\n",
              "      <td>3195.595588</td>\n",
              "      <td>0</td>\n",
              "      <td>0</td>\n",
              "      <td>0</td>\n",
              "      <td>1</td>\n",
              "      <td>0</td>\n",
              "      <td>0</td>\n",
              "      <td>0</td>\n",
              "      <td>0</td>\n",
              "      <td>0</td>\n",
              "      <td>31.125000</td>\n",
              "      <td>15.636364</td>\n",
              "      <td>65.200000</td>\n",
              "      <td>368</td>\n",
              "      <td>0</td>\n",
              "      <td>0</td>\n",
              "      <td>0</td>\n",
              "      <td>0</td>\n",
              "      <td>0</td>\n",
              "      <td>0</td>\n",
              "      <td>11</td>\n",
              "      <td>172</td>\n",
              "      <td>5</td>\n",
              "      <td>326</td>\n",
              "      <td>29200</td>\n",
              "      <td>260</td>\n",
              "      <td>4</td>\n",
              "      <td>32</td>\n",
              "      <td>0.0</td>\n",
              "      <td>0.0</td>\n",
              "      <td>0</td>\n",
              "      <td>0</td>\n",
              "      <td>0.0</td>\n",
              "      <td>0.0</td>\n",
              "      <td>0</td>\n",
              "      <td>0</td>\n",
              "      <td>BENIGN</td>\n",
              "    </tr>\n",
              "    <tr>\n",
              "      <th>2</th>\n",
              "      <td>88</td>\n",
              "      <td>1095</td>\n",
              "      <td>10</td>\n",
              "      <td>6</td>\n",
              "      <td>3150</td>\n",
              "      <td>3150</td>\n",
              "      <td>1575</td>\n",
              "      <td>0</td>\n",
              "      <td>315.000000</td>\n",
              "      <td>632.561635</td>\n",
              "      <td>1575</td>\n",
              "      <td>0</td>\n",
              "      <td>525.000000</td>\n",
              "      <td>813.326503</td>\n",
              "      <td>5.753425e+06</td>\n",
              "      <td>14611.872150</td>\n",
              "      <td>73.000000</td>\n",
              "      <td>204.960972</td>\n",
              "      <td>810</td>\n",
              "      <td>1</td>\n",
              "      <td>1095</td>\n",
              "      <td>121.666667</td>\n",
              "      <td>298.746130</td>\n",
              "      <td>915</td>\n",
              "      <td>1</td>\n",
              "      <td>995</td>\n",
              "      <td>199.000000</td>\n",
              "      <td>345.535092</td>\n",
              "      <td>810</td>\n",
              "      <td>3</td>\n",
              "      <td>0</td>\n",
              "      <td>0</td>\n",
              "      <td>0</td>\n",
              "      <td>0</td>\n",
              "      <td>336</td>\n",
              "      <td>208</td>\n",
              "      <td>9132.420091</td>\n",
              "      <td>5479.452055</td>\n",
              "      <td>0</td>\n",
              "      <td>1575</td>\n",
              "      <td>370.588235</td>\n",
              "      <td>671.751541</td>\n",
              "      <td>451250.132400</td>\n",
              "      <td>0</td>\n",
              "      <td>0</td>\n",
              "      <td>0</td>\n",
              "      <td>1</td>\n",
              "      <td>0</td>\n",
              "      <td>0</td>\n",
              "      <td>0</td>\n",
              "      <td>0</td>\n",
              "      <td>0</td>\n",
              "      <td>393.750000</td>\n",
              "      <td>315.000000</td>\n",
              "      <td>525.000000</td>\n",
              "      <td>336</td>\n",
              "      <td>0</td>\n",
              "      <td>0</td>\n",
              "      <td>0</td>\n",
              "      <td>0</td>\n",
              "      <td>0</td>\n",
              "      <td>0</td>\n",
              "      <td>10</td>\n",
              "      <td>3150</td>\n",
              "      <td>6</td>\n",
              "      <td>3150</td>\n",
              "      <td>29200</td>\n",
              "      <td>2081</td>\n",
              "      <td>3</td>\n",
              "      <td>32</td>\n",
              "      <td>0.0</td>\n",
              "      <td>0.0</td>\n",
              "      <td>0</td>\n",
              "      <td>0</td>\n",
              "      <td>0.0</td>\n",
              "      <td>0.0</td>\n",
              "      <td>0</td>\n",
              "      <td>0</td>\n",
              "      <td>BENIGN</td>\n",
              "    </tr>\n",
              "    <tr>\n",
              "      <th>3</th>\n",
              "      <td>389</td>\n",
              "      <td>15206</td>\n",
              "      <td>17</td>\n",
              "      <td>12</td>\n",
              "      <td>3452</td>\n",
              "      <td>6660</td>\n",
              "      <td>1313</td>\n",
              "      <td>0</td>\n",
              "      <td>203.058824</td>\n",
              "      <td>425.778474</td>\n",
              "      <td>3069</td>\n",
              "      <td>0</td>\n",
              "      <td>555.000000</td>\n",
              "      <td>977.480342</td>\n",
              "      <td>6.650007e+05</td>\n",
              "      <td>1907.141918</td>\n",
              "      <td>543.071429</td>\n",
              "      <td>2519.931377</td>\n",
              "      <td>13391</td>\n",
              "      <td>0</td>\n",
              "      <td>15206</td>\n",
              "      <td>950.375000</td>\n",
              "      <td>3322.417812</td>\n",
              "      <td>13391</td>\n",
              "      <td>2</td>\n",
              "      <td>15112</td>\n",
              "      <td>1373.818182</td>\n",
              "      <td>4176.449588</td>\n",
              "      <td>13961</td>\n",
              "      <td>3</td>\n",
              "      <td>0</td>\n",
              "      <td>0</td>\n",
              "      <td>0</td>\n",
              "      <td>0</td>\n",
              "      <td>560</td>\n",
              "      <td>388</td>\n",
              "      <td>1117.979745</td>\n",
              "      <td>789.162173</td>\n",
              "      <td>0</td>\n",
              "      <td>3069</td>\n",
              "      <td>337.066667</td>\n",
              "      <td>704.654082</td>\n",
              "      <td>496537.374700</td>\n",
              "      <td>0</td>\n",
              "      <td>0</td>\n",
              "      <td>0</td>\n",
              "      <td>1</td>\n",
              "      <td>0</td>\n",
              "      <td>0</td>\n",
              "      <td>0</td>\n",
              "      <td>0</td>\n",
              "      <td>0</td>\n",
              "      <td>348.689655</td>\n",
              "      <td>203.058824</td>\n",
              "      <td>555.000000</td>\n",
              "      <td>560</td>\n",
              "      <td>0</td>\n",
              "      <td>0</td>\n",
              "      <td>0</td>\n",
              "      <td>0</td>\n",
              "      <td>0</td>\n",
              "      <td>0</td>\n",
              "      <td>17</td>\n",
              "      <td>3452</td>\n",
              "      <td>12</td>\n",
              "      <td>6660</td>\n",
              "      <td>29200</td>\n",
              "      <td>0</td>\n",
              "      <td>10</td>\n",
              "      <td>32</td>\n",
              "      <td>0.0</td>\n",
              "      <td>0.0</td>\n",
              "      <td>0</td>\n",
              "      <td>0</td>\n",
              "      <td>0.0</td>\n",
              "      <td>0.0</td>\n",
              "      <td>0</td>\n",
              "      <td>0</td>\n",
              "      <td>BENIGN</td>\n",
              "    </tr>\n",
              "    <tr>\n",
              "      <th>4</th>\n",
              "      <td>88</td>\n",
              "      <td>1092</td>\n",
              "      <td>9</td>\n",
              "      <td>6</td>\n",
              "      <td>3150</td>\n",
              "      <td>3152</td>\n",
              "      <td>1575</td>\n",
              "      <td>0</td>\n",
              "      <td>350.000000</td>\n",
              "      <td>694.509719</td>\n",
              "      <td>1576</td>\n",
              "      <td>0</td>\n",
              "      <td>525.333333</td>\n",
              "      <td>813.842901</td>\n",
              "      <td>5.771062e+06</td>\n",
              "      <td>13736.263740</td>\n",
              "      <td>78.000000</td>\n",
              "      <td>207.000929</td>\n",
              "      <td>794</td>\n",
              "      <td>1</td>\n",
              "      <td>1092</td>\n",
              "      <td>136.500000</td>\n",
              "      <td>313.850738</td>\n",
              "      <td>910</td>\n",
              "      <td>1</td>\n",
              "      <td>1015</td>\n",
              "      <td>203.000000</td>\n",
              "      <td>333.240154</td>\n",
              "      <td>794</td>\n",
              "      <td>3</td>\n",
              "      <td>0</td>\n",
              "      <td>0</td>\n",
              "      <td>0</td>\n",
              "      <td>0</td>\n",
              "      <td>304</td>\n",
              "      <td>208</td>\n",
              "      <td>8241.758242</td>\n",
              "      <td>5494.505495</td>\n",
              "      <td>0</td>\n",
              "      <td>1576</td>\n",
              "      <td>393.875000</td>\n",
              "      <td>704.585067</td>\n",
              "      <td>496440.116700</td>\n",
              "      <td>0</td>\n",
              "      <td>0</td>\n",
              "      <td>0</td>\n",
              "      <td>1</td>\n",
              "      <td>0</td>\n",
              "      <td>0</td>\n",
              "      <td>0</td>\n",
              "      <td>0</td>\n",
              "      <td>0</td>\n",
              "      <td>420.133333</td>\n",
              "      <td>350.000000</td>\n",
              "      <td>525.333333</td>\n",
              "      <td>304</td>\n",
              "      <td>0</td>\n",
              "      <td>0</td>\n",
              "      <td>0</td>\n",
              "      <td>0</td>\n",
              "      <td>0</td>\n",
              "      <td>0</td>\n",
              "      <td>9</td>\n",
              "      <td>3150</td>\n",
              "      <td>6</td>\n",
              "      <td>3152</td>\n",
              "      <td>29200</td>\n",
              "      <td>2081</td>\n",
              "      <td>2</td>\n",
              "      <td>32</td>\n",
              "      <td>0.0</td>\n",
              "      <td>0.0</td>\n",
              "      <td>0</td>\n",
              "      <td>0</td>\n",
              "      <td>0.0</td>\n",
              "      <td>0.0</td>\n",
              "      <td>0</td>\n",
              "      <td>0</td>\n",
              "      <td>BENIGN</td>\n",
              "    </tr>\n",
              "  </tbody>\n",
              "</table>\n",
              "</div>"
            ],
            "text/plain": [
              "    Destination Port   Flow Duration  ...   Idle Min   Label\n",
              "0                 80           38308  ...          0  BENIGN\n",
              "1                389             479  ...          0  BENIGN\n",
              "2                 88            1095  ...          0  BENIGN\n",
              "3                389           15206  ...          0  BENIGN\n",
              "4                 88            1092  ...          0  BENIGN\n",
              "\n",
              "[5 rows x 79 columns]"
            ]
          },
          "metadata": {
            "tags": []
          },
          "execution_count": 28
        }
      ]
    },
    {
      "cell_type": "markdown",
      "metadata": {
        "id": "kpBjuxDdrNd0"
      },
      "source": [
        "**Check for null values**"
      ]
    },
    {
      "cell_type": "code",
      "metadata": {
        "colab": {
          "base_uri": "https://localhost:8080/"
        },
        "id": "Ud9ClPFKroZ5",
        "outputId": "61efd18b-92f3-43dd-f74c-8c168879fa9a"
      },
      "source": [
        "df4.info()"
      ],
      "execution_count": 29,
      "outputs": [
        {
          "output_type": "stream",
          "text": [
            "<class 'pandas.core.frame.DataFrame'>\n",
            "RangeIndex: 692703 entries, 0 to 692702\n",
            "Data columns (total 79 columns):\n",
            " #   Column                        Non-Null Count   Dtype  \n",
            "---  ------                        --------------   -----  \n",
            " 0    Destination Port             692703 non-null  int64  \n",
            " 1    Flow Duration                692703 non-null  int64  \n",
            " 2    Total Fwd Packets            692703 non-null  int64  \n",
            " 3    Total Backward Packets       692703 non-null  int64  \n",
            " 4   Total Length of Fwd Packets   692703 non-null  int64  \n",
            " 5    Total Length of Bwd Packets  692703 non-null  int64  \n",
            " 6    Fwd Packet Length Max        692703 non-null  int64  \n",
            " 7    Fwd Packet Length Min        692703 non-null  int64  \n",
            " 8    Fwd Packet Length Mean       692703 non-null  float64\n",
            " 9    Fwd Packet Length Std        692703 non-null  float64\n",
            " 10  Bwd Packet Length Max         692703 non-null  int64  \n",
            " 11   Bwd Packet Length Min        692703 non-null  int64  \n",
            " 12   Bwd Packet Length Mean       692703 non-null  float64\n",
            " 13   Bwd Packet Length Std        692703 non-null  float64\n",
            " 14  Flow Bytes/s                  691695 non-null  float64\n",
            " 15   Flow Packets/s               692703 non-null  float64\n",
            " 16   Flow IAT Mean                692703 non-null  float64\n",
            " 17   Flow IAT Std                 692703 non-null  float64\n",
            " 18   Flow IAT Max                 692703 non-null  int64  \n",
            " 19   Flow IAT Min                 692703 non-null  int64  \n",
            " 20  Fwd IAT Total                 692703 non-null  int64  \n",
            " 21   Fwd IAT Mean                 692703 non-null  float64\n",
            " 22   Fwd IAT Std                  692703 non-null  float64\n",
            " 23   Fwd IAT Max                  692703 non-null  int64  \n",
            " 24   Fwd IAT Min                  692703 non-null  int64  \n",
            " 25  Bwd IAT Total                 692703 non-null  int64  \n",
            " 26   Bwd IAT Mean                 692703 non-null  float64\n",
            " 27   Bwd IAT Std                  692703 non-null  float64\n",
            " 28   Bwd IAT Max                  692703 non-null  int64  \n",
            " 29   Bwd IAT Min                  692703 non-null  int64  \n",
            " 30  Fwd PSH Flags                 692703 non-null  int64  \n",
            " 31   Bwd PSH Flags                692703 non-null  int64  \n",
            " 32   Fwd URG Flags                692703 non-null  int64  \n",
            " 33   Bwd URG Flags                692703 non-null  int64  \n",
            " 34   Fwd Header Length            692703 non-null  int64  \n",
            " 35   Bwd Header Length            692703 non-null  int64  \n",
            " 36  Fwd Packets/s                 692703 non-null  float64\n",
            " 37   Bwd Packets/s                692703 non-null  float64\n",
            " 38   Min Packet Length            692703 non-null  int64  \n",
            " 39   Max Packet Length            692703 non-null  int64  \n",
            " 40   Packet Length Mean           692703 non-null  float64\n",
            " 41   Packet Length Std            692703 non-null  float64\n",
            " 42   Packet Length Variance       692703 non-null  float64\n",
            " 43  FIN Flag Count                692703 non-null  int64  \n",
            " 44   SYN Flag Count               692703 non-null  int64  \n",
            " 45   RST Flag Count               692703 non-null  int64  \n",
            " 46   PSH Flag Count               692703 non-null  int64  \n",
            " 47   ACK Flag Count               692703 non-null  int64  \n",
            " 48   URG Flag Count               692703 non-null  int64  \n",
            " 49   CWE Flag Count               692703 non-null  int64  \n",
            " 50   ECE Flag Count               692703 non-null  int64  \n",
            " 51   Down/Up Ratio                692703 non-null  int64  \n",
            " 52   Average Packet Size          692703 non-null  float64\n",
            " 53   Avg Fwd Segment Size         692703 non-null  float64\n",
            " 54   Avg Bwd Segment Size         692703 non-null  float64\n",
            " 55   Fwd Header Length.1          692703 non-null  int64  \n",
            " 56  Fwd Avg Bytes/Bulk            692703 non-null  int64  \n",
            " 57   Fwd Avg Packets/Bulk         692703 non-null  int64  \n",
            " 58   Fwd Avg Bulk Rate            692703 non-null  int64  \n",
            " 59   Bwd Avg Bytes/Bulk           692703 non-null  int64  \n",
            " 60   Bwd Avg Packets/Bulk         692703 non-null  int64  \n",
            " 61  Bwd Avg Bulk Rate             692703 non-null  int64  \n",
            " 62  Subflow Fwd Packets           692703 non-null  int64  \n",
            " 63   Subflow Fwd Bytes            692703 non-null  int64  \n",
            " 64   Subflow Bwd Packets          692703 non-null  int64  \n",
            " 65   Subflow Bwd Bytes            692703 non-null  int64  \n",
            " 66  Init_Win_bytes_forward        692703 non-null  int64  \n",
            " 67   Init_Win_bytes_backward      692703 non-null  int64  \n",
            " 68   act_data_pkt_fwd             692703 non-null  int64  \n",
            " 69   min_seg_size_forward         692703 non-null  int64  \n",
            " 70  Active Mean                   692703 non-null  float64\n",
            " 71   Active Std                   692703 non-null  float64\n",
            " 72   Active Max                   692703 non-null  int64  \n",
            " 73   Active Min                   692703 non-null  int64  \n",
            " 74  Idle Mean                     692703 non-null  float64\n",
            " 75   Idle Std                     692703 non-null  float64\n",
            " 76   Idle Max                     692703 non-null  int64  \n",
            " 77   Idle Min                     692703 non-null  int64  \n",
            " 78   Label                        692703 non-null  object \n",
            "dtypes: float64(24), int64(54), object(1)\n",
            "memory usage: 417.5+ MB\n"
          ],
          "name": "stdout"
        }
      ]
    },
    {
      "cell_type": "markdown",
      "metadata": {
        "id": "CjXuibkl3WqA"
      },
      "source": [
        "**Convert the np.inf values to null and remove those data points**"
      ]
    },
    {
      "cell_type": "code",
      "metadata": {
        "id": "CtbvT1_FpK4d"
      },
      "source": [
        "\n",
        "df4 = df4.replace([np.inf, -np.inf], np.nan)\n",
        "df4 = df4.dropna()"
      ],
      "execution_count": 30,
      "outputs": []
    },
    {
      "cell_type": "code",
      "metadata": {
        "colab": {
          "base_uri": "https://localhost:8080/"
        },
        "id": "_vmRIYBQtckx",
        "outputId": "4c173d5d-4be7-4767-cb1c-dae3049f6284"
      },
      "source": [
        "df4.info()"
      ],
      "execution_count": 31,
      "outputs": [
        {
          "output_type": "stream",
          "text": [
            "<class 'pandas.core.frame.DataFrame'>\n",
            "Int64Index: 691406 entries, 0 to 692702\n",
            "Data columns (total 79 columns):\n",
            " #   Column                        Non-Null Count   Dtype  \n",
            "---  ------                        --------------   -----  \n",
            " 0    Destination Port             691406 non-null  int64  \n",
            " 1    Flow Duration                691406 non-null  int64  \n",
            " 2    Total Fwd Packets            691406 non-null  int64  \n",
            " 3    Total Backward Packets       691406 non-null  int64  \n",
            " 4   Total Length of Fwd Packets   691406 non-null  int64  \n",
            " 5    Total Length of Bwd Packets  691406 non-null  int64  \n",
            " 6    Fwd Packet Length Max        691406 non-null  int64  \n",
            " 7    Fwd Packet Length Min        691406 non-null  int64  \n",
            " 8    Fwd Packet Length Mean       691406 non-null  float64\n",
            " 9    Fwd Packet Length Std        691406 non-null  float64\n",
            " 10  Bwd Packet Length Max         691406 non-null  int64  \n",
            " 11   Bwd Packet Length Min        691406 non-null  int64  \n",
            " 12   Bwd Packet Length Mean       691406 non-null  float64\n",
            " 13   Bwd Packet Length Std        691406 non-null  float64\n",
            " 14  Flow Bytes/s                  691406 non-null  float64\n",
            " 15   Flow Packets/s               691406 non-null  float64\n",
            " 16   Flow IAT Mean                691406 non-null  float64\n",
            " 17   Flow IAT Std                 691406 non-null  float64\n",
            " 18   Flow IAT Max                 691406 non-null  int64  \n",
            " 19   Flow IAT Min                 691406 non-null  int64  \n",
            " 20  Fwd IAT Total                 691406 non-null  int64  \n",
            " 21   Fwd IAT Mean                 691406 non-null  float64\n",
            " 22   Fwd IAT Std                  691406 non-null  float64\n",
            " 23   Fwd IAT Max                  691406 non-null  int64  \n",
            " 24   Fwd IAT Min                  691406 non-null  int64  \n",
            " 25  Bwd IAT Total                 691406 non-null  int64  \n",
            " 26   Bwd IAT Mean                 691406 non-null  float64\n",
            " 27   Bwd IAT Std                  691406 non-null  float64\n",
            " 28   Bwd IAT Max                  691406 non-null  int64  \n",
            " 29   Bwd IAT Min                  691406 non-null  int64  \n",
            " 30  Fwd PSH Flags                 691406 non-null  int64  \n",
            " 31   Bwd PSH Flags                691406 non-null  int64  \n",
            " 32   Fwd URG Flags                691406 non-null  int64  \n",
            " 33   Bwd URG Flags                691406 non-null  int64  \n",
            " 34   Fwd Header Length            691406 non-null  int64  \n",
            " 35   Bwd Header Length            691406 non-null  int64  \n",
            " 36  Fwd Packets/s                 691406 non-null  float64\n",
            " 37   Bwd Packets/s                691406 non-null  float64\n",
            " 38   Min Packet Length            691406 non-null  int64  \n",
            " 39   Max Packet Length            691406 non-null  int64  \n",
            " 40   Packet Length Mean           691406 non-null  float64\n",
            " 41   Packet Length Std            691406 non-null  float64\n",
            " 42   Packet Length Variance       691406 non-null  float64\n",
            " 43  FIN Flag Count                691406 non-null  int64  \n",
            " 44   SYN Flag Count               691406 non-null  int64  \n",
            " 45   RST Flag Count               691406 non-null  int64  \n",
            " 46   PSH Flag Count               691406 non-null  int64  \n",
            " 47   ACK Flag Count               691406 non-null  int64  \n",
            " 48   URG Flag Count               691406 non-null  int64  \n",
            " 49   CWE Flag Count               691406 non-null  int64  \n",
            " 50   ECE Flag Count               691406 non-null  int64  \n",
            " 51   Down/Up Ratio                691406 non-null  int64  \n",
            " 52   Average Packet Size          691406 non-null  float64\n",
            " 53   Avg Fwd Segment Size         691406 non-null  float64\n",
            " 54   Avg Bwd Segment Size         691406 non-null  float64\n",
            " 55   Fwd Header Length.1          691406 non-null  int64  \n",
            " 56  Fwd Avg Bytes/Bulk            691406 non-null  int64  \n",
            " 57   Fwd Avg Packets/Bulk         691406 non-null  int64  \n",
            " 58   Fwd Avg Bulk Rate            691406 non-null  int64  \n",
            " 59   Bwd Avg Bytes/Bulk           691406 non-null  int64  \n",
            " 60   Bwd Avg Packets/Bulk         691406 non-null  int64  \n",
            " 61  Bwd Avg Bulk Rate             691406 non-null  int64  \n",
            " 62  Subflow Fwd Packets           691406 non-null  int64  \n",
            " 63   Subflow Fwd Bytes            691406 non-null  int64  \n",
            " 64   Subflow Bwd Packets          691406 non-null  int64  \n",
            " 65   Subflow Bwd Bytes            691406 non-null  int64  \n",
            " 66  Init_Win_bytes_forward        691406 non-null  int64  \n",
            " 67   Init_Win_bytes_backward      691406 non-null  int64  \n",
            " 68   act_data_pkt_fwd             691406 non-null  int64  \n",
            " 69   min_seg_size_forward         691406 non-null  int64  \n",
            " 70  Active Mean                   691406 non-null  float64\n",
            " 71   Active Std                   691406 non-null  float64\n",
            " 72   Active Max                   691406 non-null  int64  \n",
            " 73   Active Min                   691406 non-null  int64  \n",
            " 74  Idle Mean                     691406 non-null  float64\n",
            " 75   Idle Std                     691406 non-null  float64\n",
            " 76   Idle Max                     691406 non-null  int64  \n",
            " 77   Idle Min                     691406 non-null  int64  \n",
            " 78   Label                        691406 non-null  object \n",
            "dtypes: float64(24), int64(54), object(1)\n",
            "memory usage: 422.0+ MB\n"
          ],
          "name": "stdout"
        }
      ]
    },
    {
      "cell_type": "markdown",
      "metadata": {
        "id": "Uy6_t-mnCGcF"
      },
      "source": [
        "**Changing the labels from (Benign and DDoS attack) to binary (0,1)**"
      ]
    },
    {
      "cell_type": "code",
      "metadata": {
        "id": "RMbrms10_x7f"
      },
      "source": [
        "#DF4\n",
        "#making output binary:\n",
        "df4 = df4.rename(columns={\" Label\": \"Label\"})\n",
        "df4.loc[df4. Label == \"BENIGN\", \"Label\"] = 0.0\n",
        "df4.loc[df4. Label != 0, \"Label\"] = 1.0\n"
      ],
      "execution_count": 32,
      "outputs": []
    },
    {
      "cell_type": "markdown",
      "metadata": {
        "id": "HJ3e2BEWyYw4"
      },
      "source": [
        "**Check for imbalance in the dataset**"
      ]
    },
    {
      "cell_type": "code",
      "metadata": {
        "colab": {
          "base_uri": "https://localhost:8080/",
          "height": 354
        },
        "id": "gHG4CTMoyhOB",
        "outputId": "fc491591-f000-409b-ef31-d331e3527733"
      },
      "source": [
        "\n",
        "target_count = df4.Label.value_counts()\n",
        "print('Class 0:', target_count[0])\n",
        "print('Class 1:', target_count[1])\n",
        "print('Proportion:', round(target_count[0] / target_count[1], 2), ': 1')\n",
        "\n",
        "target_count.plot(kind='bar', title='Count (target)')"
      ],
      "execution_count": 33,
      "outputs": [
        {
          "output_type": "stream",
          "text": [
            "Class 0: 439683\n",
            "Class 1: 251723\n",
            "Proportion: 1.75 : 1\n"
          ],
          "name": "stdout"
        },
        {
          "output_type": "execute_result",
          "data": {
            "text/plain": [
              "<matplotlib.axes._subplots.AxesSubplot at 0x7fe9be464990>"
            ]
          },
          "metadata": {
            "tags": []
          },
          "execution_count": 33
        },
        {
          "output_type": "display_data",
          "data": {
            "image/png": "[encoded data removed]",
            "text/plain": [
              "<Figure size 432x288 with 1 Axes>"
            ]
          },
          "metadata": {
            "tags": [],
            "needs_background": "light"
          }
        }
      ]
    },
    {
      "cell_type": "markdown",
      "metadata": {
        "id": "CylDp4pVCSdV"
      },
      "source": [
        "**Random Undersampling**\n",
        "\n",
        "\n",
        "\n"
      ]
    },
    {
      "cell_type": "code",
      "metadata": {
        "id": "C1LLhkF9_90d",
        "colab": {
          "base_uri": "https://localhost:8080/",
          "height": 371
        },
        "outputId": "18079703-28c4-4beb-9c5b-018e61cca48a"
      },
      "source": [
        "#random undersampling\n",
        "count_class_0, count_class_1 = df4.Label.value_counts()\n",
        "\n",
        "# Divide by class\n",
        "df4_class_0 = df4[df4['Label'] == 0]\n",
        "df4_class_1 = df4[df4['Label'] == 1]\n",
        "\n",
        "df4_class_0_under = df4_class_0.sample(count_class_1)\n",
        "df4_mod = pd.concat([df4_class_0_under, df4_class_1], axis=0)\n",
        "\n",
        "print('Random under-sampling:')\n",
        "print(df4_mod.Label.value_counts())\n",
        "\n",
        "df4_mod.Label.value_counts().plot(kind='bar', title='Count (target)')"
      ],
      "execution_count": 34,
      "outputs": [
        {
          "output_type": "stream",
          "text": [
            "Random under-sampling:\n",
            "1.0    251723\n",
            "0.0    251723\n",
            "Name: Label, dtype: int64\n"
          ],
          "name": "stdout"
        },
        {
          "output_type": "execute_result",
          "data": {
            "text/plain": [
              "<matplotlib.axes._subplots.AxesSubplot at 0x7fe9be413250>"
            ]
          },
          "metadata": {
            "tags": []
          },
          "execution_count": 34
        },
        {
          "output_type": "display_data",
          "data": {
            "image/png": "[encoded data removed]",
            "text/plain": [
              "<Figure size 432x288 with 1 Axes>"
            ]
          },
          "metadata": {
            "tags": [],
            "needs_background": "light"
          }
        }
      ]
    },
    {
      "cell_type": "markdown",
      "metadata": {
        "id": "rbcs9K_lCcel"
      },
      "source": [
        "**Dropping the socket features and assgning to numpy arrays**"
      ]
    },
    {
      "cell_type": "code",
      "metadata": {
        "id": "auN6BP0uA7Xx"
      },
      "source": [
        "df4_mod.drop([\" Destination Port\"],axis = 1, inplace = True) \n",
        "X=df4_mod.iloc[:, :-1 ].to_numpy()\n",
        "y = df4_mod.iloc[:,-1].to_numpy()\n",
        "from sklearn.preprocessing import LabelEncoder\n",
        "labelencoder= LabelEncoder()\n",
        "y = labelencoder.fit_transform(y)"
      ],
      "execution_count": 35,
      "outputs": []
    },
    {
      "cell_type": "markdown",
      "metadata": {
        "id": "FWn94SUVCjvq"
      },
      "source": [
        "**Splitting the dataset into train and test data**"
      ]
    },
    {
      "cell_type": "code",
      "metadata": {
        "id": "LdGmg0NSBmK2"
      },
      "source": [
        "from sklearn.model_selection import train_test_split\n",
        "X_train, X_test, y_train, y_test = train_test_split(X, y, test_size=0.2, random_state = 5)\n",
        "\n",
        "from sklearn.preprocessing import MinMaxScaler\n",
        "scale_X= MinMaxScaler()\n",
        "X_train= scale_X.fit_transform(X_train)\n",
        "X_test= scale_X.transform(X_test)\n"
      ],
      "execution_count": 36,
      "outputs": []
    },
    {
      "cell_type": "markdown",
      "metadata": {
        "id": "5FqFXAeuy1vR"
      },
      "source": [
        "**A look at the shape of training and testing dataset**"
      ]
    },
    {
      "cell_type": "code",
      "metadata": {
        "id": "xQeh2K6lBiWc",
        "colab": {
          "base_uri": "https://localhost:8080/"
        },
        "outputId": "849272c8-d0e0-478c-c904-e843c689ceda"
      },
      "source": [
        "print(X_train.shape)\n",
        "print(y_train.shape)\n",
        "\n",
        "print(X_test.shape)\n",
        "print(y_test.shape)"
      ],
      "execution_count": 37,
      "outputs": [
        {
          "output_type": "stream",
          "text": [
            "(402756, 77)\n",
            "(402756,)\n",
            "(100690, 77)\n",
            "(100690,)\n"
          ],
          "name": "stdout"
        }
      ]
    },
    {
      "cell_type": "markdown",
      "metadata": {
        "id": "lTXVmT4dCpzB"
      },
      "source": [
        "**Computing feature importance using random forest for efficient feature selection:**"
      ]
    },
    {
      "cell_type": "code",
      "metadata": {
        "id": "SMachJvpAz5R",
        "colab": {
          "base_uri": "https://localhost:8080/"
        },
        "outputId": "21b22cac-82e7-4215-b10a-59cd3c84d535"
      },
      "source": [
        "#random forest:\n",
        "from sklearn.ensemble import RandomForestClassifier\n",
        "from sklearn.feature_selection import SelectFromModel\n",
        "np.random.seed(1)\n",
        "\n",
        "trees = 100\n",
        "\n",
        "#RandomForestClassifier(n_estimators=trees,max_features=max_feat,max_depth=max_depth,min_samples_split= min_sample, random_state=0,n_jobs=-1)\n",
        "\n",
        "\n",
        "sel = SelectFromModel(RandomForestClassifier(n_estimators=trees, random_state=0,n_jobs=-1), threshold= 0.005)\n",
        "sel.fit(X_train, y_train)"
      ],
      "execution_count": 38,
      "outputs": [
        {
          "output_type": "execute_result",
          "data": {
            "text/plain": [
              "SelectFromModel(estimator=RandomForestClassifier(bootstrap=True, ccp_alpha=0.0,\n",
              "                                                 class_weight=None,\n",
              "                                                 criterion='gini',\n",
              "                                                 max_depth=None,\n",
              "                                                 max_features='auto',\n",
              "                                                 max_leaf_nodes=None,\n",
              "                                                 max_samples=None,\n",
              "                                                 min_impurity_decrease=0.0,\n",
              "                                                 min_impurity_split=None,\n",
              "                                                 min_samples_leaf=1,\n",
              "                                                 min_samples_split=2,\n",
              "                                                 min_weight_fraction_leaf=0.0,\n",
              "                                                 n_estimators=100, n_jobs=-1,\n",
              "                                                 oob_score=False,\n",
              "                                                 random_state=0, verbose=0,\n",
              "                                                 warm_start=False),\n",
              "                max_features=None, norm_order=1, prefit=False, threshold=0.005)"
            ]
          },
          "metadata": {
            "tags": []
          },
          "execution_count": 38
        }
      ]
    },
    {
      "cell_type": "markdown",
      "metadata": {
        "id": "A1g1q1OlCyoA"
      },
      "source": [
        "**Show which features are selected**"
      ]
    },
    {
      "cell_type": "code",
      "metadata": {
        "id": "l-U0SRDaBQMm"
      },
      "source": [
        "frame = pd.DataFrame(X_train,index=X_train[:,0])\n",
        "selected_feat= frame.columns[(sel.get_support())]\n",
        "n =len(selected_feat)"
      ],
      "execution_count": 39,
      "outputs": []
    },
    {
      "cell_type": "code",
      "metadata": {
        "id": "DRZedkhYBX-l",
        "colab": {
          "base_uri": "https://localhost:8080/"
        },
        "outputId": "4e896bbd-a325-499f-b3e5-e9cd581dad66"
      },
      "source": [
        "print(\"Selected number of features: \", n)\n",
        "print(selected_feat)\n",
        "\n"
      ],
      "execution_count": 40,
      "outputs": [
        {
          "output_type": "stream",
          "text": [
            "Selected number of features:  38\n",
            "Int64Index([ 0,  1,  2,  3,  5,  6,  7,  8,  9, 10, 11, 12, 14, 15, 20, 21, 22,\n",
            "            33, 34, 36, 37, 38, 39, 40, 41, 45, 51, 52, 53, 54, 61, 62, 63, 65,\n",
            "            66, 73, 75, 76],\n",
            "           dtype='int64')\n"
          ],
          "name": "stdout"
        }
      ]
    },
    {
      "cell_type": "markdown",
      "metadata": {
        "id": "g-Y7neHnztvZ"
      },
      "source": [
        "**Taking only the selected features**"
      ]
    },
    {
      "cell_type": "code",
      "metadata": {
        "id": "e35YicD0BZZv"
      },
      "source": [
        "features = X_train[:, selected_feat]\n",
        "X_train = features\n",
        "X_test = X_test[:, selected_feat]"
      ],
      "execution_count": 41,
      "outputs": []
    },
    {
      "cell_type": "markdown",
      "metadata": {
        "id": "Rj1Ope9Ozz6Z"
      },
      "source": [
        "**Feature importance bar chart**"
      ]
    },
    {
      "cell_type": "code",
      "metadata": {
        "id": "wvnBS-bUBgGL",
        "colab": {
          "base_uri": "https://localhost:8080/",
          "height": 282
        },
        "outputId": "d98dee54-f6a7-42d2-fe2b-261e808ebbff"
      },
      "source": [
        "pd.Series(sel.estimator_.feature_importances_.ravel()).hist()"
      ],
      "execution_count": 42,
      "outputs": [
        {
          "output_type": "execute_result",
          "data": {
            "text/plain": [
              "<matplotlib.axes._subplots.AxesSubplot at 0x7fe9be366d50>"
            ]
          },
          "metadata": {
            "tags": []
          },
          "execution_count": 42
        },
        {
          "output_type": "display_data",
          "data": {
            "image/png": "[encoded data removed]",
            "text/plain": [
              "<Figure size 432x288 with 1 Axes>"
            ]
          },
          "metadata": {
            "tags": [],
            "needs_background": "light"
          }
        }
      ]
    },
    {
      "cell_type": "markdown",
      "metadata": {
        "id": "4EefxkliC5P5"
      },
      "source": [
        "**Importance of each features**"
      ]
    },
    {
      "cell_type": "code",
      "metadata": {
        "id": "TTQfFC4SBjXm",
        "colab": {
          "base_uri": "https://localhost:8080/"
        },
        "outputId": "2860af5e-45be-48b4-f4e4-b2e08fbcc082"
      },
      "source": [
        "sel.estimator_.feature_importances_"
      ],
      "execution_count": 43,
      "outputs": [
        {
          "output_type": "execute_result",
          "data": {
            "text/plain": [
              "array([6.53902210e-03, 9.27637269e-03, 1.42785802e-02, 2.49290111e-02,\n",
              "       3.05780531e-03, 1.57362545e-02, 1.28188155e-02, 1.96219640e-02,\n",
              "       8.01008451e-03, 5.42994634e-02, 1.38205035e-02, 5.12200650e-02,\n",
              "       5.32767764e-02, 8.61719049e-04, 7.64539559e-03, 1.45589663e-02,\n",
              "       3.42400907e-03, 4.99237397e-03, 2.80087812e-03, 4.25514802e-03,\n",
              "       8.00786345e-03, 1.99758308e-02, 1.50694980e-02, 4.71372764e-03,\n",
              "       7.95750316e-04, 2.17408301e-03, 1.34888557e-03, 2.30184345e-03,\n",
              "       2.10352392e-03, 5.12302448e-04, 0.00000000e+00, 0.00000000e+00,\n",
              "       0.00000000e+00, 1.63066704e-02, 1.93828385e-02, 3.39342787e-03,\n",
              "       6.88042628e-03, 6.80798534e-02, 4.28257026e-02, 7.09944784e-02,\n",
              "       5.23219150e-02, 2.53266189e-02, 3.70257598e-03, 7.76876103e-04,\n",
              "       0.00000000e+00, 5.28798371e-03, 2.88246073e-03, 2.61058958e-03,\n",
              "       0.00000000e+00, 1.08978541e-06, 4.66751944e-03, 4.06367010e-02,\n",
              "       2.56978825e-02, 6.36161391e-02, 1.25995135e-02, 0.00000000e+00,\n",
              "       0.00000000e+00, 0.00000000e+00, 0.00000000e+00, 0.00000000e+00,\n",
              "       0.00000000e+00, 1.17816685e-02, 1.33191392e-02, 1.75912660e-02,\n",
              "       2.70117806e-03, 3.73258819e-02, 2.18034948e-02, 4.26548689e-03,\n",
              "       3.40981747e-03, 1.85094559e-03, 9.24275757e-04, 1.17301454e-03,\n",
              "       6.43699040e-04, 6.18011881e-03, 6.51892613e-04, 2.09418981e-02,\n",
              "       5.01844272e-03])"
            ]
          },
          "metadata": {
            "tags": []
          },
          "execution_count": 43
        }
      ]
    },
    {
      "cell_type": "markdown",
      "metadata": {
        "id": "lrBXBIloDD1Q"
      },
      "source": [
        "**Designing and training the MLP model:**"
      ]
    },
    {
      "cell_type": "code",
      "metadata": {
        "id": "wZWLbIPmBpNT"
      },
      "source": [
        "import keras\n",
        "from keras.models import Sequential\n",
        "from keras.layers import Dense\n",
        "from keras.layers import Dropout\n",
        "def build_classifier():\n",
        "    classifier=Sequential()\n",
        "    classifier.add(Dense(15, activation='relu', input_shape=(n, )))\n",
        "    #classifier.add(Dropout(p =0.1))\n",
        "    classifier.add(Dense(10, activation='relu'))\n",
        "    #classifier.add(Dropout(p= 0.1))\n",
        "    classifier.add(Dense(25, activation='relu'))\n",
        "    #classifier.add(Dropout(p=0.1))\n",
        "    classifier.add(Dense(25, activation='relu'))\n",
        "    classifier.add(Dense(10, activation='relu'))\n",
        "    #classifier.add(Dropout(p=0.1))\n",
        "    classifier.add(Dense(1, activation='sigmoid' ))\n",
        "    classifier.compile(optimizer='adam' , loss='binary_crossentropy', metrics=['accuracy'])\n",
        "    return classifier\n",
        "    #Kfold:\n",
        "\n",
        "from keras.wrappers.scikit_learn import KerasClassifier\n",
        "from sklearn.model_selection import cross_val_score\n",
        "classifier = KerasClassifier(build_fn = build_classifier, batch_size=10, nb_epoch=30)"
      ],
      "execution_count": 44,
      "outputs": []
    },
    {
      "cell_type": "markdown",
      "metadata": {
        "id": "YHRhkNo_DL7N"
      },
      "source": [
        "**K(=10) fold cross validation:**"
      ]
    },
    {
      "cell_type": "code",
      "metadata": {
        "id": "-cMsa30oDHiR"
      },
      "source": [
        "accuracies =  cross_val_score(estimator=classifier, X=X_train, y=y_train,cv=10, n_jobs=-1)\n",
        "mean=accuracies.mean()\n",
        "dev=accuracies.std()"
      ],
      "execution_count": 45,
      "outputs": []
    },
    {
      "cell_type": "code",
      "metadata": {
        "id": "SxRmnuC9DRbh",
        "colab": {
          "base_uri": "https://localhost:8080/"
        },
        "outputId": "9327511f-69e8-48b2-9e5b-94a43544d4d8"
      },
      "source": [
        "print (\"accuracies of each fold:\")\n",
        "i=1\n",
        "for accuracy in accuracies:\n",
        "  print(\"Accuracy in \",i,\"th fold: \",accuracy)\n",
        "  i=i+1\n",
        "\n",
        "print(\"Mean accuracy in K fold cross validation: \", mean)\n",
        "print(\"Std deviation in K fold cross validation: \", dev)"
      ],
      "execution_count": 46,
      "outputs": [
        {
          "output_type": "stream",
          "text": [
            "accuracies of each fold:\n",
            "Accuracy in  1 th fold:  0.980087399482727\n",
            "Accuracy in  2 th fold:  0.9790446162223816\n",
            "Accuracy in  3 th fold:  0.9778279662132263\n",
            "Accuracy in  4 th fold:  0.9820488691329956\n",
            "Accuracy in  5 th fold:  0.9738305807113647\n",
            "Accuracy in  6 th fold:  0.9826447367668152\n",
            "Accuracy in  7 th fold:  0.9800620675086975\n",
            "Accuracy in  8 th fold:  0.9825201630592346\n",
            "Accuracy in  9 th fold:  0.9798882603645325\n",
            "Accuracy in  10 th fold:  0.9777529239654541\n",
            "Mean accuracy in K fold cross validation:  0.9795707583427429\n",
            "Std deviation in K fold cross validation:  0.0025390310340867896\n"
          ],
          "name": "stdout"
        }
      ]
    },
    {
      "cell_type": "markdown",
      "metadata": {
        "id": "Q9-yAq0iEBSt"
      },
      "source": [
        "**Training the ANN model**"
      ]
    },
    {
      "cell_type": "code",
      "metadata": {
        "id": "hGn7nMn8EFwV",
        "colab": {
          "base_uri": "https://localhost:8080/"
        },
        "outputId": "1775cae3-72a0-41ed-8f12-fb303c7bca43"
      },
      "source": [
        "hist = classifier.fit(X_train ,y_train, batch_size=57 ,epochs=100, validation_split= 0.2)"
      ],
      "execution_count": 47,
      "outputs": [
        {
          "output_type": "stream",
          "text": [
            "Epoch 1/100\n",
            "5653/5653 [==============================] - 17s 3ms/step - loss: 0.1826 - accuracy: 0.9294 - val_loss: 0.0772 - val_accuracy: 0.9780\n",
            "Epoch 2/100\n",
            "5653/5653 [==============================] - 16s 3ms/step - loss: 0.0685 - accuracy: 0.9762 - val_loss: 0.0572 - val_accuracy: 0.9807\n",
            "Epoch 3/100\n",
            "5653/5653 [==============================] - 16s 3ms/step - loss: 0.0593 - accuracy: 0.9797 - val_loss: 0.0534 - val_accuracy: 0.9821\n",
            "Epoch 4/100\n",
            "5653/5653 [==============================] - 17s 3ms/step - loss: 0.0551 - accuracy: 0.9818 - val_loss: 0.0504 - val_accuracy: 0.9825\n",
            "Epoch 5/100\n",
            "5653/5653 [==============================] - 16s 3ms/step - loss: 0.0537 - accuracy: 0.9824 - val_loss: 0.0532 - val_accuracy: 0.9881\n",
            "Epoch 6/100\n",
            "5653/5653 [==============================] - 17s 3ms/step - loss: 0.0499 - accuracy: 0.9835 - val_loss: 0.0473 - val_accuracy: 0.9836\n",
            "Epoch 7/100\n",
            "5653/5653 [==============================] - 17s 3ms/step - loss: 0.0487 - accuracy: 0.9843 - val_loss: 0.0424 - val_accuracy: 0.9856\n",
            "Epoch 8/100\n",
            "5653/5653 [==============================] - 17s 3ms/step - loss: 0.0471 - accuracy: 0.9851 - val_loss: 0.0510 - val_accuracy: 0.9838\n",
            "Epoch 9/100\n",
            "5653/5653 [==============================] - 16s 3ms/step - loss: 0.0453 - accuracy: 0.9856 - val_loss: 0.0475 - val_accuracy: 0.9845\n",
            "Epoch 10/100\n",
            "5653/5653 [==============================] - 17s 3ms/step - loss: 0.0445 - accuracy: 0.9860 - val_loss: 0.0405 - val_accuracy: 0.9861\n",
            "Epoch 11/100\n",
            "5653/5653 [==============================] - 16s 3ms/step - loss: 0.0427 - accuracy: 0.9866 - val_loss: 0.0337 - val_accuracy: 0.9905\n",
            "Epoch 12/100\n",
            "5653/5653 [==============================] - 17s 3ms/step - loss: 0.0427 - accuracy: 0.9867 - val_loss: 0.0337 - val_accuracy: 0.9914\n",
            "Epoch 13/100\n",
            "5653/5653 [==============================] - 16s 3ms/step - loss: 0.0405 - accuracy: 0.9875 - val_loss: 0.0313 - val_accuracy: 0.9911\n",
            "Epoch 14/100\n",
            "5653/5653 [==============================] - 17s 3ms/step - loss: 0.0393 - accuracy: 0.9878 - val_loss: 0.0325 - val_accuracy: 0.9900\n",
            "Epoch 15/100\n",
            "5653/5653 [==============================] - 17s 3ms/step - loss: 0.0392 - accuracy: 0.9879 - val_loss: 0.0338 - val_accuracy: 0.9895\n",
            "Epoch 16/100\n",
            "5653/5653 [==============================] - 16s 3ms/step - loss: 0.0371 - accuracy: 0.9884 - val_loss: 0.0280 - val_accuracy: 0.9920\n",
            "Epoch 17/100\n",
            "5653/5653 [==============================] - 17s 3ms/step - loss: 0.0355 - accuracy: 0.9893 - val_loss: 0.0340 - val_accuracy: 0.9909\n",
            "Epoch 18/100\n",
            "5653/5653 [==============================] - 18s 3ms/step - loss: 0.0343 - accuracy: 0.9896 - val_loss: 0.0408 - val_accuracy: 0.9878\n",
            "Epoch 19/100\n",
            "5653/5653 [==============================] - 17s 3ms/step - loss: 0.0341 - accuracy: 0.9895 - val_loss: 0.0948 - val_accuracy: 0.9717\n",
            "Epoch 20/100\n",
            "5653/5653 [==============================] - 16s 3ms/step - loss: 0.0350 - accuracy: 0.9893 - val_loss: 0.0365 - val_accuracy: 0.9901\n",
            "Epoch 21/100\n",
            "5653/5653 [==============================] - 16s 3ms/step - loss: 0.0315 - accuracy: 0.9904 - val_loss: 0.0371 - val_accuracy: 0.9907\n",
            "Epoch 22/100\n",
            "5653/5653 [==============================] - 17s 3ms/step - loss: 0.0313 - accuracy: 0.9906 - val_loss: 0.0248 - val_accuracy: 0.9927\n",
            "Epoch 23/100\n",
            "5653/5653 [==============================] - 17s 3ms/step - loss: 0.0299 - accuracy: 0.9907 - val_loss: 0.0228 - val_accuracy: 0.9930\n",
            "Epoch 24/100\n",
            "5653/5653 [==============================] - 18s 3ms/step - loss: 0.0276 - accuracy: 0.9912 - val_loss: 0.0241 - val_accuracy: 0.9929\n",
            "Epoch 25/100\n",
            "5653/5653 [==============================] - 16s 3ms/step - loss: 0.0262 - accuracy: 0.9917 - val_loss: 0.0209 - val_accuracy: 0.9939\n",
            "Epoch 26/100\n",
            "5653/5653 [==============================] - 17s 3ms/step - loss: 0.0257 - accuracy: 0.9926 - val_loss: 0.0204 - val_accuracy: 0.9943\n",
            "Epoch 27/100\n",
            "5653/5653 [==============================] - 16s 3ms/step - loss: 0.0241 - accuracy: 0.9929 - val_loss: 0.0225 - val_accuracy: 0.9938\n",
            "Epoch 28/100\n",
            "5653/5653 [==============================] - 17s 3ms/step - loss: 0.0235 - accuracy: 0.9930 - val_loss: 0.0253 - val_accuracy: 0.9939\n",
            "Epoch 29/100\n",
            "5653/5653 [==============================] - 17s 3ms/step - loss: 0.0239 - accuracy: 0.9929 - val_loss: 0.0203 - val_accuracy: 0.9942\n",
            "Epoch 30/100\n",
            "5653/5653 [==============================] - 17s 3ms/step - loss: 0.0228 - accuracy: 0.9933 - val_loss: 0.0239 - val_accuracy: 0.9937\n",
            "Epoch 31/100\n",
            "5653/5653 [==============================] - 17s 3ms/step - loss: 0.0220 - accuracy: 0.9935 - val_loss: 0.0227 - val_accuracy: 0.9936\n",
            "Epoch 32/100\n",
            "5653/5653 [==============================] - 17s 3ms/step - loss: 0.0223 - accuracy: 0.9936 - val_loss: 0.0339 - val_accuracy: 0.9902\n",
            "Epoch 33/100\n",
            "5653/5653 [==============================] - 17s 3ms/step - loss: 0.0213 - accuracy: 0.9937 - val_loss: 0.0196 - val_accuracy: 0.9951\n",
            "Epoch 34/100\n",
            "5653/5653 [==============================] - 17s 3ms/step - loss: 0.0208 - accuracy: 0.9939 - val_loss: 0.0184 - val_accuracy: 0.9951\n",
            "Epoch 35/100\n",
            "5653/5653 [==============================] - 17s 3ms/step - loss: 0.0214 - accuracy: 0.9939 - val_loss: 0.0192 - val_accuracy: 0.9946\n",
            "Epoch 36/100\n",
            "5653/5653 [==============================] - 16s 3ms/step - loss: 0.0199 - accuracy: 0.9943 - val_loss: 0.0271 - val_accuracy: 0.9920\n",
            "Epoch 37/100\n",
            "5653/5653 [==============================] - 17s 3ms/step - loss: 0.0201 - accuracy: 0.9942 - val_loss: 0.0320 - val_accuracy: 0.9909\n",
            "Epoch 38/100\n",
            "5653/5653 [==============================] - 16s 3ms/step - loss: 0.0206 - accuracy: 0.9940 - val_loss: 0.0168 - val_accuracy: 0.9957\n",
            "Epoch 39/100\n",
            "5653/5653 [==============================] - 17s 3ms/step - loss: 0.0202 - accuracy: 0.9942 - val_loss: 0.0178 - val_accuracy: 0.9956\n",
            "Epoch 40/100\n",
            "5653/5653 [==============================] - 17s 3ms/step - loss: 0.0192 - accuracy: 0.9946 - val_loss: 0.0198 - val_accuracy: 0.9954\n",
            "Epoch 41/100\n",
            "5653/5653 [==============================] - 16s 3ms/step - loss: 0.0193 - accuracy: 0.9945 - val_loss: 0.0170 - val_accuracy: 0.9952\n",
            "Epoch 42/100\n",
            "5653/5653 [==============================] - 16s 3ms/step - loss: 0.0186 - accuracy: 0.9946 - val_loss: 0.0166 - val_accuracy: 0.9953\n",
            "Epoch 43/100\n",
            "5653/5653 [==============================] - 16s 3ms/step - loss: 0.0177 - accuracy: 0.9950 - val_loss: 0.0353 - val_accuracy: 0.9794\n",
            "Epoch 44/100\n",
            "5653/5653 [==============================] - 16s 3ms/step - loss: 0.0189 - accuracy: 0.9945 - val_loss: 0.0170 - val_accuracy: 0.9957\n",
            "Epoch 45/100\n",
            "5653/5653 [==============================] - 17s 3ms/step - loss: 0.0191 - accuracy: 0.9946 - val_loss: 0.0259 - val_accuracy: 0.9932\n",
            "Epoch 46/100\n",
            "5653/5653 [==============================] - 17s 3ms/step - loss: 0.0185 - accuracy: 0.9948 - val_loss: 0.0199 - val_accuracy: 0.9935\n",
            "Epoch 47/100\n",
            "5653/5653 [==============================] - 18s 3ms/step - loss: 0.0171 - accuracy: 0.9952 - val_loss: 0.0185 - val_accuracy: 0.9948\n",
            "Epoch 48/100\n",
            "5653/5653 [==============================] - 16s 3ms/step - loss: 0.0179 - accuracy: 0.9949 - val_loss: 0.0192 - val_accuracy: 0.9942\n",
            "Epoch 49/100\n",
            "5653/5653 [==============================] - 16s 3ms/step - loss: 0.0179 - accuracy: 0.9949 - val_loss: 0.0179 - val_accuracy: 0.9958\n",
            "Epoch 50/100\n",
            "5653/5653 [==============================] - 16s 3ms/step - loss: 0.0194 - accuracy: 0.9945 - val_loss: 0.0150 - val_accuracy: 0.9964\n",
            "Epoch 51/100\n",
            "5653/5653 [==============================] - 17s 3ms/step - loss: 0.0179 - accuracy: 0.9950 - val_loss: 0.0168 - val_accuracy: 0.9956\n",
            "Epoch 52/100\n",
            "5653/5653 [==============================] - 17s 3ms/step - loss: 0.0185 - accuracy: 0.9947 - val_loss: 0.0163 - val_accuracy: 0.9959\n",
            "Epoch 53/100\n",
            "5653/5653 [==============================] - 16s 3ms/step - loss: 0.0180 - accuracy: 0.9951 - val_loss: 0.0150 - val_accuracy: 0.9965\n",
            "Epoch 54/100\n",
            "5653/5653 [==============================] - 16s 3ms/step - loss: 0.0173 - accuracy: 0.9951 - val_loss: 0.0161 - val_accuracy: 0.9961\n",
            "Epoch 55/100\n",
            "5653/5653 [==============================] - 16s 3ms/step - loss: 0.0185 - accuracy: 0.9949 - val_loss: 0.0183 - val_accuracy: 0.9960\n",
            "Epoch 56/100\n",
            "5653/5653 [==============================] - 17s 3ms/step - loss: 0.0175 - accuracy: 0.9951 - val_loss: 0.0169 - val_accuracy: 0.9953\n",
            "Epoch 57/100\n",
            "5653/5653 [==============================] - 17s 3ms/step - loss: 0.0166 - accuracy: 0.9954 - val_loss: 0.0153 - val_accuracy: 0.9964\n",
            "Epoch 58/100\n",
            "5653/5653 [==============================] - 17s 3ms/step - loss: 0.0166 - accuracy: 0.9954 - val_loss: 0.0148 - val_accuracy: 0.9963\n",
            "Epoch 59/100\n",
            "5653/5653 [==============================] - 17s 3ms/step - loss: 0.0166 - accuracy: 0.9955 - val_loss: 0.0162 - val_accuracy: 0.9963\n",
            "Epoch 60/100\n",
            "5653/5653 [==============================] - 17s 3ms/step - loss: 0.0168 - accuracy: 0.9955 - val_loss: 0.0145 - val_accuracy: 0.9966\n",
            "Epoch 61/100\n",
            "5653/5653 [==============================] - 17s 3ms/step - loss: 0.0161 - accuracy: 0.9955 - val_loss: 0.0172 - val_accuracy: 0.9959\n",
            "Epoch 62/100\n",
            "5653/5653 [==============================] - 16s 3ms/step - loss: 0.0170 - accuracy: 0.9951 - val_loss: 0.0211 - val_accuracy: 0.9949\n",
            "Epoch 63/100\n",
            "5653/5653 [==============================] - 16s 3ms/step - loss: 0.0167 - accuracy: 0.9952 - val_loss: 0.0142 - val_accuracy: 0.9967\n",
            "Epoch 64/100\n",
            "5653/5653 [==============================] - 16s 3ms/step - loss: 0.0169 - accuracy: 0.9952 - val_loss: 0.0216 - val_accuracy: 0.9945\n",
            "Epoch 65/100\n",
            "5653/5653 [==============================] - 18s 3ms/step - loss: 0.0176 - accuracy: 0.9950 - val_loss: 0.0162 - val_accuracy: 0.9961\n",
            "Epoch 66/100\n",
            "5653/5653 [==============================] - 17s 3ms/step - loss: 0.0163 - accuracy: 0.9954 - val_loss: 0.0147 - val_accuracy: 0.9966\n",
            "Epoch 67/100\n",
            "5653/5653 [==============================] - 18s 3ms/step - loss: 0.0159 - accuracy: 0.9955 - val_loss: 0.0167 - val_accuracy: 0.9954\n",
            "Epoch 68/100\n",
            "5653/5653 [==============================] - 17s 3ms/step - loss: 0.0159 - accuracy: 0.9955 - val_loss: 0.0250 - val_accuracy: 0.9955\n",
            "Epoch 69/100\n",
            "5653/5653 [==============================] - 17s 3ms/step - loss: 0.0163 - accuracy: 0.9956 - val_loss: 0.0152 - val_accuracy: 0.9962\n",
            "Epoch 70/100\n",
            "5653/5653 [==============================] - 17s 3ms/step - loss: 0.0160 - accuracy: 0.9955 - val_loss: 0.0142 - val_accuracy: 0.9961\n",
            "Epoch 71/100\n",
            "5653/5653 [==============================] - 16s 3ms/step - loss: 0.0157 - accuracy: 0.9955 - val_loss: 0.0156 - val_accuracy: 0.9960\n",
            "Epoch 72/100\n",
            "5653/5653 [==============================] - 17s 3ms/step - loss: 0.0160 - accuracy: 0.9955 - val_loss: 0.0170 - val_accuracy: 0.9957\n",
            "Epoch 73/100\n",
            "5653/5653 [==============================] - 17s 3ms/step - loss: 0.0157 - accuracy: 0.9956 - val_loss: 0.0158 - val_accuracy: 0.9962\n",
            "Epoch 74/100\n",
            "5653/5653 [==============================] - 17s 3ms/step - loss: 0.0158 - accuracy: 0.9957 - val_loss: 0.0162 - val_accuracy: 0.9961\n",
            "Epoch 75/100\n",
            "5653/5653 [==============================] - 17s 3ms/step - loss: 0.0150 - accuracy: 0.9958 - val_loss: 0.0176 - val_accuracy: 0.9956\n",
            "Epoch 76/100\n",
            "5653/5653 [==============================] - 17s 3ms/step - loss: 0.0157 - accuracy: 0.9957 - val_loss: 0.0145 - val_accuracy: 0.9961\n",
            "Epoch 77/100\n",
            "5653/5653 [==============================] - 16s 3ms/step - loss: 0.0152 - accuracy: 0.9957 - val_loss: 0.0160 - val_accuracy: 0.9963\n",
            "Epoch 78/100\n",
            "5653/5653 [==============================] - 17s 3ms/step - loss: 0.0152 - accuracy: 0.9958 - val_loss: 0.0142 - val_accuracy: 0.9968\n",
            "Epoch 79/100\n",
            "5653/5653 [==============================] - 17s 3ms/step - loss: 0.0148 - accuracy: 0.9959 - val_loss: 0.0173 - val_accuracy: 0.9967\n",
            "Epoch 80/100\n",
            "5653/5653 [==============================] - 17s 3ms/step - loss: 0.0147 - accuracy: 0.9961 - val_loss: 0.0143 - val_accuracy: 0.9966\n",
            "Epoch 81/100\n",
            "5653/5653 [==============================] - 17s 3ms/step - loss: 0.0148 - accuracy: 0.9960 - val_loss: 0.0146 - val_accuracy: 0.9967\n",
            "Epoch 82/100\n",
            "5653/5653 [==============================] - 16s 3ms/step - loss: 0.0150 - accuracy: 0.9960 - val_loss: 0.0162 - val_accuracy: 0.9958\n",
            "Epoch 83/100\n",
            "5653/5653 [==============================] - 17s 3ms/step - loss: 0.0145 - accuracy: 0.9960 - val_loss: 0.0172 - val_accuracy: 0.9961\n",
            "Epoch 84/100\n",
            "5653/5653 [==============================] - 17s 3ms/step - loss: 0.0150 - accuracy: 0.9958 - val_loss: 0.0157 - val_accuracy: 0.9962\n",
            "Epoch 85/100\n",
            "5653/5653 [==============================] - 16s 3ms/step - loss: 0.0149 - accuracy: 0.9959 - val_loss: 0.0130 - val_accuracy: 0.9969\n",
            "Epoch 86/100\n",
            "5653/5653 [==============================] - 16s 3ms/step - loss: 0.0149 - accuracy: 0.9958 - val_loss: 0.0170 - val_accuracy: 0.9955\n",
            "Epoch 87/100\n",
            "5653/5653 [==============================] - 17s 3ms/step - loss: 0.0152 - accuracy: 0.9957 - val_loss: 0.0160 - val_accuracy: 0.9964\n",
            "Epoch 88/100\n",
            "5653/5653 [==============================] - 17s 3ms/step - loss: 0.0154 - accuracy: 0.9957 - val_loss: 0.0156 - val_accuracy: 0.9965\n",
            "Epoch 89/100\n",
            "5653/5653 [==============================] - 17s 3ms/step - loss: 0.0142 - accuracy: 0.9962 - val_loss: 0.0145 - val_accuracy: 0.9967\n",
            "Epoch 90/100\n",
            "5653/5653 [==============================] - 16s 3ms/step - loss: 0.0142 - accuracy: 0.9961 - val_loss: 0.0149 - val_accuracy: 0.9968\n",
            "Epoch 91/100\n",
            "5653/5653 [==============================] - 16s 3ms/step - loss: 0.0149 - accuracy: 0.9960 - val_loss: 0.0152 - val_accuracy: 0.9964\n",
            "Epoch 92/100\n",
            "5653/5653 [==============================] - 17s 3ms/step - loss: 0.0146 - accuracy: 0.9959 - val_loss: 0.0148 - val_accuracy: 0.9965\n",
            "Epoch 93/100\n",
            "5653/5653 [==============================] - 17s 3ms/step - loss: 0.0148 - accuracy: 0.9960 - val_loss: 0.0158 - val_accuracy: 0.9965\n",
            "Epoch 94/100\n",
            "5653/5653 [==============================] - 16s 3ms/step - loss: 0.0150 - accuracy: 0.9957 - val_loss: 0.0175 - val_accuracy: 0.9957\n",
            "Epoch 95/100\n",
            "5653/5653 [==============================] - 17s 3ms/step - loss: 0.0150 - accuracy: 0.9958 - val_loss: 0.0139 - val_accuracy: 0.9967\n",
            "Epoch 96/100\n",
            "5653/5653 [==============================] - 17s 3ms/step - loss: 0.0141 - accuracy: 0.9961 - val_loss: 0.0170 - val_accuracy: 0.9955\n",
            "Epoch 97/100\n",
            "5653/5653 [==============================] - 17s 3ms/step - loss: 0.0143 - accuracy: 0.9961 - val_loss: 0.0159 - val_accuracy: 0.9963\n",
            "Epoch 98/100\n",
            "5653/5653 [==============================] - 17s 3ms/step - loss: 0.0151 - accuracy: 0.9958 - val_loss: 0.0187 - val_accuracy: 0.9949\n",
            "Epoch 99/100\n",
            "5653/5653 [==============================] - 17s 3ms/step - loss: 0.0150 - accuracy: 0.9959 - val_loss: 0.0142 - val_accuracy: 0.9967\n",
            "Epoch 100/100\n",
            "5653/5653 [==============================] - 17s 3ms/step - loss: 0.0142 - accuracy: 0.9961 - val_loss: 0.0155 - val_accuracy: 0.9962\n"
          ],
          "name": "stdout"
        }
      ]
    },
    {
      "cell_type": "markdown",
      "metadata": {
        "id": "ot1K7OP8SogT"
      },
      "source": [
        "**Performance measurement function**"
      ]
    },
    {
      "cell_type": "code",
      "metadata": {
        "id": "3LZnR0atSuCu"
      },
      "source": [
        "def perf_measure(y_actual, y_pred):\n",
        "    global SENSITIVITY\n",
        "    global SPECIFICITY\n",
        "    global PRECISION\n",
        "    global NEGATIVE_PREDICTIVE_VALUE\n",
        "    global FALSE_NEGATIVE_RATE\n",
        "    global FALSE_POSITIVE_RATE\n",
        "    global FALSE_DISCOVERY_RATE\n",
        "    global FALSE_OMISSION_RATE\n",
        "    global ACCURACY\n",
        "    global F1_SCORE\n",
        "    global Iteration\n",
        "    TP = 0\n",
        "    TN = 0\n",
        "    FP = 0\n",
        "    FN = 0\n",
        "    \n",
        "    for i in range(len(y_pred)): \n",
        "        #print('actual',y_actual[i])\n",
        "        #print('predicted', y_pred[i])\n",
        "        if y_actual[i]==y_pred[i]==1.:\n",
        "            #print('TP')\n",
        "            TP += 1\n",
        "        if y_pred[i]==1. and y_actual[i]!=y_pred[i]:\n",
        "            #print('FP')\n",
        "            FP += 1\n",
        "        if y_actual[i]==y_pred[i]==0.:\n",
        "            #print('TN')\n",
        "            TN += 1\n",
        "        if y_pred[i]==0. and y_actual[i]!=y_pred[i]:\n",
        "            FN += 1\n",
        "            #print(\"FN\")\n",
        "    \n",
        "    #SENSITIVITY += TP/(TP + FN)\n",
        "    #SPECIFICITY += TN/(TN + FP)\n",
        "    #PRECISION += TP/(TP + FP)\n",
        "    #NEGATIVE_PREDICTIVE_VALUE += TN/(TN + FN)\n",
        "    #FALSE_NEGATIVE_RATE += FN/(FN + TP)\n",
        "    #FALSE_POSITIVE_RATE += FP/(FP + TN)\n",
        "    #FALSE_DISCOVERY_RATE += FP/(FP + TP)\n",
        "    #FALSE_OMISSION_RATE += FN/(FN + TN)\n",
        "    #ACCURACY += (TP + TN)/(TP + TN + FP + FN)\n",
        "    #F1_SCORE += 2*TP/(2*TP + FP + FN)\n",
        "    #Iteration = Iteration + 1\n",
        "    return (TP, TN, FP, FN)"
      ],
      "execution_count": 48,
      "outputs": []
    },
    {
      "cell_type": "markdown",
      "metadata": {
        "id": "9ovvZcsgEfhx"
      },
      "source": [
        "**Prediction results with this model on TEST SET:**"
      ]
    },
    {
      "cell_type": "code",
      "metadata": {
        "id": "1N-UtWTlEkkH",
        "colab": {
          "base_uri": "https://localhost:8080/"
        },
        "outputId": "c74bc6ef-c185-405d-dba5-e8d9bc2a1e73"
      },
      "source": [
        "\n",
        "from sklearn.metrics import classification_report, confusion_matrix,accuracy_score\n",
        "pred_test = classifier.predict(X_test)\n",
        "pred_test  = [1 if y>=0.5 else 0 for y in pred_test] #Threshold\n",
        "#print(classification_report(y_test ,pred_test ))\n",
        "#print('Confusion Matrix: \\n',confusion_matrix(y_test,pred_test))\n",
        "#print()\n",
        "#print('Accuracy: ', accuracy_score(y_test,pred_test))\n",
        "#print()\n",
        "\n"
      ],
      "execution_count": 49,
      "outputs": [
        {
          "output_type": "stream",
          "text": [
            "/usr/local/lib/python3.7/dist-packages/tensorflow/python/keras/engine/sequential.py:450: UserWarning: `model.predict_classes()` is deprecated and will be removed after 2021-01-01. Please use instead:* `np.argmax(model.predict(x), axis=-1)`,   if your model does multi-class classification   (e.g. if it uses a `softmax` last-layer activation).* `(model.predict(x) > 0.5).astype(\"int32\")`,   if your model does binary classification   (e.g. if it uses a `sigmoid` last-layer activation).\n",
            "  warnings.warn('`model.predict_classes()` is deprecated and '\n"
          ],
          "name": "stderr"
        }
      ]
    },
    {
      "cell_type": "markdown",
      "metadata": {
        "id": "Mzcfoes6Qrp8"
      },
      "source": [
        "**Confusion Matrix**"
      ]
    },
    {
      "cell_type": "code",
      "metadata": {
        "id": "JVITzAjnQqd9"
      },
      "source": [
        "import numpy as np\n",
        "import pandas as pd\n",
        "import matplotlib.pyplot as plt\n",
        "%matplotlib inline\n",
        "import seaborn as sns\n",
        "from sklearn.metrics import confusion_matrix\n",
        "\n",
        "def plot_cm(y_true, y_pred, figsize=(10,10)):\n",
        "    cm = confusion_matrix(y_true, y_pred, labels=np.unique(y_true))\n",
        "    cm_sum = np.sum(cm, axis=1, keepdims=True)\n",
        "    cm_perc = cm / cm_sum.astype(float) * 100\n",
        "    annot = np.empty_like(cm).astype(str)\n",
        "    nrows, ncols = cm.shape\n",
        "    for i in range(nrows):\n",
        "        for j in range(ncols):\n",
        "            c = cm[i, j]\n",
        "            p = cm_perc[i, j]\n",
        "            if i == j:\n",
        "                s = cm_sum[i]\n",
        "                annot[i, j] = '%.1f%%\\n%d/%d' % (p, c, s)\n",
        "            elif c == 0:\n",
        "                annot[i, j] = ''\n",
        "            else:\n",
        "                annot[i, j] = '%.1f%%\\n%d' % (p, c)\n",
        "    cm = pd.DataFrame(cm, index=np.unique(y_true), columns=np.unique(y_true))\n",
        "    cm.index.name = 'Actual'\n",
        "    cm.columns.name = 'Predicted'\n",
        "    fig, ax = plt.subplots(figsize=figsize)\n",
        "    sns.heatmap(cm, cmap= \"YlGnBu\", annot=annot, fmt='', ax=ax)\n",
        "    \n"
      ],
      "execution_count": 50,
      "outputs": []
    },
    {
      "cell_type": "markdown",
      "metadata": {
        "id": "gDnvlArMQzQj"
      },
      "source": [
        "**Confusion Matrix for RF-MLP model**"
      ]
    },
    {
      "cell_type": "code",
      "metadata": {
        "colab": {
          "base_uri": "https://localhost:8080/",
          "height": 606
        },
        "id": "CBuQ84enQ5Sl",
        "outputId": "2f96a346-0df6-425d-f91d-b2f8ae7dbc3c"
      },
      "source": [
        "plot_cm(y_test, pred_test)"
      ],
      "execution_count": 51,
      "outputs": [
        {
          "output_type": "display_data",
          "data": {
            "image/png": "[encoded data removed]",
            "text/plain": [
              "<Figure size 720x720 with 2 Axes>"
            ]
          },
          "metadata": {
            "tags": [],
            "needs_background": "light"
          }
        }
      ]
    },
    {
      "cell_type": "markdown",
      "metadata": {
        "id": "SRNWD66jRLw2"
      },
      "source": [
        "**ROC curve generation**"
      ]
    },
    {
      "cell_type": "code",
      "metadata": {
        "colab": {
          "base_uri": "https://localhost:8080/",
          "height": 640
        },
        "id": "QZTLmxbrPGDh",
        "outputId": "ba6c1d58-3916-498e-9dd8-28d590360dcf"
      },
      "source": [
        "\n",
        "from sklearn.metrics import roc_curve\n",
        "from sklearn.metrics import auc\n",
        "y_new = np.rint(pred_test)\n",
        "(tp, tn, fp, fn) = perf_measure(y_test, y_new)\n",
        "TP = TP + tp\n",
        "FP = FP + fp\n",
        "FN = FN + fn\n",
        "TN = TN + tn\n",
        "cvscores.append(scores[1]*100)\n",
        "i = i + 1\n",
        "\n",
        "#y_pred_keras = model.predict(X_test).ravel()\n",
        "fpr_keras, tpr_keras, thresholds_keras = roc_curve(y_test, pred_test)\n",
        "auc_keras = auc(fpr_keras, tpr_keras)\n",
        "\n",
        "plt.figure(3)\n",
        "plt.plot([0, 1], [0, 1], 'k--')\n",
        "plt.plot(fpr_keras, tpr_keras, label='Keras (area = {:.3f})'.format(auc_keras))\n",
        "plt.xlabel('False positive rate')\n",
        "plt.ylabel('True positive rate')\n",
        "plt.title('ROC curve')\n",
        "plt.legend(loc='best')\n",
        "\n",
        "# Zoom in view of the upper left corner.\n",
        "plt.figure(4)\n",
        "plt.xlim(0, 0.2)\n",
        "plt.ylim(0.8, 1)\n",
        "plt.plot([0, 1], [0, 1], 'k--')\n",
        "plt.plot(fpr_keras, tpr_keras, label='Keras (area = {:.3f})'.format(auc_keras))\n",
        "\n",
        "plt.xlabel('False positive rate')\n",
        "plt.ylabel('True positive rate')\n",
        "plt.title('ROC curve (zoomed in at top left)')\n",
        "plt.legend(loc='best')\n",
        "#print(\"%.2f%% (+/- %.2f%%)\" % (np.mean(cvscores), np.std(cvscores)))\n",
        "print(\"TP: \",TP)\n",
        "print(\"TN: \", TN)\n",
        "print(\"FP: \", FP)\n",
        "print(\"FN: \", FN)\n",
        "\n",
        "plt.show()"
      ],
      "execution_count": 52,
      "outputs": [
        {
          "output_type": "stream",
          "text": [
            "TP:  100155\n",
            "TN:  100504\n",
            "FP:  518\n",
            "FN:  203\n"
          ],
          "name": "stdout"
        },
        {
          "output_type": "display_data",
          "data": {
            "image/png": "[encoded data removed]",
            "text/plain": [
              "<Figure size 432x288 with 1 Axes>"
            ]
          },
          "metadata": {
            "tags": [],
            "needs_background": "light"
          }
        },
        {
          "output_type": "display_data",
          "data": {
            "image/png": "[encoded data removed]",
            "text/plain": [
              "<Figure size 432x288 with 1 Axes>"
            ]
          },
          "metadata": {
            "tags": [],
            "needs_background": "light"
          }
        }
      ]
    },
    {
      "cell_type": "markdown",
      "metadata": {
        "id": "cFkMCJ0MFtXO"
      },
      "source": [
        "**CNN Model**"
      ]
    },
    {
      "cell_type": "code",
      "metadata": {
        "id": "kjbYmtSqFwqV",
        "colab": {
          "base_uri": "https://localhost:8080/",
          "height": 1000
        },
        "outputId": "3bd25b12-ca12-4ded-c670-e00dc1336ef6"
      },
      "source": [
        "import numpy as np\n",
        "import pandas as pd\n",
        "from sklearn.preprocessing import LabelEncoder\n",
        "from sklearn.preprocessing import StandardScaler\n",
        "from sklearn.model_selection import StratifiedShuffleSplit\n",
        "from keras.models import Sequential\n",
        "from keras.layers import Dense, Activation, Flatten, Dropout, Conv1D, MaxPooling1D\n",
        "from keras.optimizers import SGD\n",
        "from keras.utils import np_utils\n",
        "from sklearn.model_selection import train_test_split\n",
        "from sklearn.model_selection import StratifiedKFold\n",
        "import matplotlib.pyplot as plt\n",
        "from sklearn.metrics import roc_curve\n",
        "from sklearn.metrics import auc\n",
        "\n",
        "#train, test, train_labels, test_labels = train_test_split(reduced_data, labels, test_size=0.20, random_state=7)\n",
        "\n",
        "TP = 0\n",
        "TN = 0\n",
        "FP = 0\n",
        "FN = 0\n",
        "\n",
        "#print(reduced_data[0])\n",
        "seed = 7\n",
        "# define 10-fold cross validation test harness\n",
        "#kfold = StratifiedKFold(n_splits=10, shuffle=True, random_state=seed)\n",
        "cvscores = []\n",
        "i = 0\n",
        "#for train, test in kfold.split(reduced_data, labels):\n",
        "#X_train = np.expand_dims(X_train, axis=2)\n",
        "#X_test = np.expand_dims(X_test, axis=2)\n",
        "X_train = X_train.reshape(X_train.shape[0], X_train.shape[1], 1)\n",
        "X_test = X_test.reshape(X_test.shape[0], X_test.shape[1], 1)\n",
        "model = Sequential()\n",
        "model.add(Conv1D(filters=256, kernel_size=5, activation='relu', input_shape=(n,1)))\n",
        "model.add(MaxPooling1D(pool_size=2))\n",
        "model.add(Flatten())\n",
        "model.add(Dropout(.2))\n",
        "model.add(Dense(256, activation='relu'))\n",
        "#model.add(Dense(20, activation='relu'))\n",
        "#model.add(Dense(80, activation='relu'))\n",
        "model.add(Dense(1, activation='sigmoid'))\n",
        "model.compile(loss='binary_crossentropy', optimizer='adam', metrics=['accuracy'])\n",
        "\n",
        "nb_epoch = 3\n",
        "history = model.fit(X_train, y_train, epochs=100, validation_split=0.2, batch_size=512, verbose=0)\n",
        "\n",
        "\n",
        "f = plt.figure(1)\n",
        "plt.plot(history.history['accuracy'])\n",
        "plt.plot(history.history['val_accuracy'])\n",
        "plt.title('model accuracy')\n",
        "plt.ylabel('accuracy')\n",
        "plt.xlabel('epoch')\n",
        "plt.legend(['train', 'validation'], loc='upper left')\n",
        "#plt.show()\n",
        "# summarize history for loss\n",
        "g = plt.figure(2)\n",
        "plt.plot(history.history['loss'])\n",
        "plt.plot(history.history['val_loss'])\n",
        "plt.title('model loss')\n",
        "plt.ylabel('loss')\n",
        "plt.xlabel('epoch')\n",
        "plt.legend(['train', 'validation'], loc='upper right')\n",
        "#plt.show()\n",
        "\n",
        "\n",
        "# evaluate the model\n",
        "scores = model.evaluate(X_test, y_test)\n",
        "print(\"\\n%s: %.2f%%\" % (model.metrics_names[1], scores[1]*100))\n",
        "\n",
        "pred_y = model.predict(X_test)\n",
        "y_new = np.rint(pred_y)\n",
        "(tp, tn, fp, fn) = perf_measure(y_test, y_new)\n",
        "TP = TP + tp\n",
        "FP = FP + fp\n",
        "FN = FN + fn\n",
        "TN = TN + tn\n",
        "cvscores.append(scores[1]*100)\n",
        "i = i + 1\n",
        "\n",
        "y_pred_keras = model.predict(X_test).ravel()\n",
        "fpr_keras, tpr_keras, thresholds_keras = roc_curve(y_test, y_pred_keras)\n",
        "auc_keras = auc(fpr_keras, tpr_keras)\n",
        "\n",
        "plt.figure(3)\n",
        "plt.plot([0, 1], [0, 1], 'k--')\n",
        "plt.plot(fpr_keras, tpr_keras, label='Keras (area = {:.3f})'.format(auc_keras))\n",
        "plt.xlabel('False positive rate')\n",
        "plt.ylabel('True positive rate')\n",
        "plt.title('ROC curve')\n",
        "plt.legend(loc='best')\n",
        "\n",
        "# Zoom in view of the upper left corner.\n",
        "plt.figure(4)\n",
        "plt.xlim(0, 0.2)\n",
        "plt.ylim(0.8, 1)\n",
        "plt.plot([0, 1], [0, 1], 'k--')\n",
        "plt.plot(fpr_keras, tpr_keras, label='Keras (area = {:.3f})'.format(auc_keras))\n",
        "\n",
        "plt.xlabel('False positive rate')\n",
        "plt.ylabel('True positive rate')\n",
        "plt.title('ROC curve (zoomed in at top left)')\n",
        "plt.legend(loc='best')\n",
        "print(\"%.2f%% (+/- %.2f%%)\" % (np.mean(cvscores), np.std(cvscores)))\n",
        "print(\"TP: \",TP)\n",
        "print(\"TN: \", TN)\n",
        "print(\"FP: \", FP)\n",
        "print(\"FN: \", FN)\n",
        "\n",
        "plt.show()\n",
        "\n",
        "SENSITIVITY = TP/(TP + FN)\n",
        "SPECIFICITY = TN/(TN + FP)\n",
        "PRECISION = TP/(TP + FP)\n",
        "NEGATIVE_PREDICTIVE_VALUE = TN/(TN + FN)\n",
        "FALSE_NEGATIVE_RATE = FN/(FN + TP)\n",
        "FALSE_POSITIVE_RATE = FP/(FP + TN)\n",
        "FALSE_DISCOVERY_RATE = FP/(FP + TP)\n",
        "FALSE_OMISSION_RATE = FN/(FN + TN)\n",
        "ACCURACY = (TP + TN)/(TP + TN + FP + FN)\n",
        "F1_SCORE = 2*TP/(2*TP + FP + FN)\n",
        "Iteration = 1\n",
        "print('Average SENSITIVITY: '+str(SENSITIVITY/Iteration))\n",
        "print('Average SPECIFICITY: '+str(SPECIFICITY/Iteration))\n",
        "print('Average PRECISION: '+str(PRECISION/Iteration))\n",
        "print('Average NEGATIVE_PREDICTIVE_VALUE: '+str(NEGATIVE_PREDICTIVE_VALUE/Iteration))\n",
        "print('Average FALSE_NEGATIVE_RATE: '+str(FALSE_NEGATIVE_RATE/Iteration))\n",
        "print('Average FALSE_POSITIVE_RATE: '+str(FALSE_POSITIVE_RATE/Iteration))\n",
        "print('Average FALSE_DISCOVERY_RATE: '+str(FALSE_DISCOVERY_RATE/Iteration))\n",
        "print('Average FALSE_OMISSION_RATE: '+str(FALSE_OMISSION_RATE/Iteration))\n",
        "print('Average ACCURACY: '+str(ACCURACY/Iteration))\n",
        "\n",
        "print('Average F1_SCORE: '+str(F1_SCORE/Iteration))"
      ],
      "execution_count": 53,
      "outputs": [
        {
          "output_type": "stream",
          "text": [
            "3147/3147 [==============================] - 6s 2ms/step - loss: 0.0161 - accuracy: 0.9955\n",
            "\n",
            "accuracy: 99.55%\n",
            "99.55% (+/- 0.00%)\n",
            "TP:  50129\n",
            "TN:  50112\n",
            "FP:  399\n",
            "FN:  50\n"
          ],
          "name": "stdout"
        },
        {
          "output_type": "display_data",
          "data": {
            "image/png": "[encoded data removed]",
            "text/plain": [
              "<Figure size 432x288 with 1 Axes>"
            ]
          },
          "metadata": {
            "tags": [],
            "needs_background": "light"
          }
        },
        {
          "output_type": "display_data",
          "data": {
            "image/png": "[encoded data removed]",
            "text/plain": [
              "<Figure size 432x288 with 1 Axes>"
            ]
          },
          "metadata": {
            "tags": [],
            "needs_background": "light"
          }
        },
        {
          "output_type": "display_data",
          "data": {
            "image/png": "[encoded data removed]",
            "text/plain": [
              "<Figure size 432x288 with 1 Axes>"
            ]
          },
          "metadata": {
            "tags": [],
            "needs_background": "light"
          }
        },
        {
          "output_type": "display_data",
          "data": {
            "image/png": "[encoded data removed]",
            "text/plain": [
              "<Figure size 432x288 with 1 Axes>"
            ]
          },
          "metadata": {
            "tags": [],
            "needs_background": "light"
          }
        },
        {
          "output_type": "stream",
          "text": [
            "Average SENSITIVITY: 0.999003567229319\n",
            "Average SPECIFICITY: 0.9921007305339431\n",
            "Average PRECISION: 0.9921033882203927\n",
            "Average NEGATIVE_PREDICTIVE_VALUE: 0.9990032295363024\n",
            "Average FALSE_NEGATIVE_RATE: 0.0009964327706809622\n",
            "Average FALSE_POSITIVE_RATE: 0.007899269466056898\n",
            "Average FALSE_DISCOVERY_RATE: 0.007896611779607347\n",
            "Average FALSE_OMISSION_RATE: 0.0009967704636976197\n",
            "Average ACCURACY: 0.9955407686959976\n",
            "Average F1_SCORE: 0.9955415214433952\n"
          ],
          "name": "stdout"
        }
      ]
    },
    {
      "cell_type": "code",
      "metadata": {
        "id": "AU9AeNhmJCY9",
        "colab": {
          "base_uri": "https://localhost:8080/",
          "height": 608
        },
        "outputId": "dc63f7c8-9431-4835-e76b-88218f8ff01d"
      },
      "source": [
        "plot_cm(y_test, y_new)"
      ],
      "execution_count": 54,
      "outputs": [
        {
          "output_type": "display_data",
          "data": {
            "image/png": "[encoded data removed]",
            "text/plain": [
              "<Figure size 720x720 with 2 Axes>"
            ]
          },
          "metadata": {
            "tags": [],
            "needs_background": "light"
          }
        }
      ]
    }
  ]
}